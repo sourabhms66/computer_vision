{
 "cells": [
  {
   "cell_type": "code",
   "execution_count": 1,
   "metadata": {},
   "outputs": [],
   "source": [
    "import cv2"
   ]
  },
  {
   "cell_type": "code",
   "execution_count": 2,
   "metadata": {},
   "outputs": [
    {
     "name": "stdout",
     "output_type": "stream",
     "text": [
      "[[[ 48 173 127]\n",
      "  [ 69 197 138]\n",
      "  [ 43 178  92]\n",
      "  ...\n",
      "  [ 47 160  70]\n",
      "  [ 39 152  55]\n",
      "  [ 32 145  47]]\n",
      "\n",
      " [[ 40 168 109]\n",
      "  [ 15 144  75]\n",
      "  [  0 111  21]\n",
      "  ...\n",
      "  [ 24 134  46]\n",
      "  [ 21 130  38]\n",
      "  [ 26 136  42]]\n",
      "\n",
      " [[  9 139  54]\n",
      "  [  0 130  41]\n",
      "  [ 30 160  59]\n",
      "  ...\n",
      "  [ 20 123  42]\n",
      "  [  7 111  26]\n",
      "  [ 12 117  30]]\n",
      "\n",
      " ...\n",
      "\n",
      " [[  1  47  81]\n",
      "  [ 20  64  93]\n",
      "  [ 22  60  78]\n",
      "  ...\n",
      "  [  0   1   0]\n",
      "  [  2   0   0]\n",
      "  [  4   0   0]]\n",
      "\n",
      " [[  0  30  72]\n",
      "  [  6  51  85]\n",
      "  [  8  55  77]\n",
      "  ...\n",
      "  [  5   0   1]\n",
      "  [  7   0   3]\n",
      "  [  9   0   3]]\n",
      "\n",
      " [[  9  51  94]\n",
      "  [  0  41  78]\n",
      "  [  8  57  83]\n",
      "  ...\n",
      "  [  6   0   1]\n",
      "  [ 10   1   4]\n",
      "  [ 13   2   5]]]\n"
     ]
    }
   ],
   "source": [
    "image = cv2.imread('leaf.jpeg')\n",
    "print(image)"
   ]
  },
  {
   "cell_type": "code",
   "execution_count": 3,
   "metadata": {},
   "outputs": [
    {
     "data": {
      "text/plain": [
       "(640, 640, 3)"
      ]
     },
     "execution_count": 3,
     "metadata": {},
     "output_type": "execute_result"
    }
   ],
   "source": [
    "image.shape"
   ]
  },
  {
   "cell_type": "markdown",
   "metadata": {},
   "source": [
    "## Convert color image to grayscale image"
   ]
  },
  {
   "cell_type": "code",
   "execution_count": 4,
   "metadata": {},
   "outputs": [],
   "source": [
    "\n",
    "gray_image = cv2.cvtColor(image, cv2.COLOR_BGR2GRAY)\n",
    "# Save the grayscale image (optional)\n",
    "cv2.imwrite('grayscale_leaf.jpg', gray_image)\n",
    "# Display the grayscale image (optional)\n",
    "cv2.imshow('grayscale_leaf', gray_image)\n",
    "#cv2.waitKey(5)\n",
    "#cv2.destroyAllWindows()\n"
   ]
  },
  {
   "cell_type": "code",
   "execution_count": 5,
   "metadata": {},
   "outputs": [
    {
     "data": {
      "text/plain": [
       "array([[145, 165, 137, ..., 120, 110, 103],\n",
       "       [136, 109,  71, ...,  95,  90,  95],\n",
       "       [ 99,  89, 115, ...,  87,  74,  79],\n",
       "       ...,\n",
       "       [ 52,  68,  61, ...,   1,   0,   0],\n",
       "       [ 39,  56,  56, ...,   1,   2,   2],\n",
       "       [ 59,  47,  59, ...,   1,   3,   4]], dtype=uint8)"
      ]
     },
     "execution_count": 5,
     "metadata": {},
     "output_type": "execute_result"
    }
   ],
   "source": [
    "gray_image"
   ]
  },
  {
   "cell_type": "markdown",
   "metadata": {},
   "source": [
    "## Now as we can see there's no 3rd channel so it's a grayscale image"
   ]
  },
  {
   "cell_type": "code",
   "execution_count": 6,
   "metadata": {},
   "outputs": [
    {
     "data": {
      "text/plain": [
       "(640, 640)"
      ]
     },
     "execution_count": 6,
     "metadata": {},
     "output_type": "execute_result"
    }
   ],
   "source": [
    "gray_image.shape"
   ]
  },
  {
   "cell_type": "code",
   "execution_count": null,
   "metadata": {},
   "outputs": [],
   "source": []
  },
  {
   "cell_type": "code",
   "execution_count": null,
   "metadata": {},
   "outputs": [],
   "source": []
  },
  {
   "cell_type": "code",
   "execution_count": null,
   "metadata": {},
   "outputs": [],
   "source": []
  }
 ],
 "metadata": {
  "kernelspec": {
   "display_name": "Python 3",
   "language": "python",
   "name": "python3"
  },
  "language_info": {
   "codemirror_mode": {
    "name": "ipython",
    "version": 3
   },
   "file_extension": ".py",
   "mimetype": "text/x-python",
   "name": "python",
   "nbconvert_exporter": "python",
   "pygments_lexer": "ipython3",
   "version": "3.11.5"
  }
 },
 "nbformat": 4,
 "nbformat_minor": 2
}
