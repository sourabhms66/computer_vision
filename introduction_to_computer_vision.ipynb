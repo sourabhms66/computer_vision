{
 "cells": [
  {
   "cell_type": "code",
   "execution_count": 3,
   "metadata": {},
   "outputs": [
    {
     "name": "stdout",
     "output_type": "stream",
     "text": [
      "[[[ 48 173 127]\n",
      "  [ 69 197 138]\n",
      "  [ 43 178  92]\n",
      "  ...\n",
      "  [ 47 160  70]\n",
      "  [ 39 152  55]\n",
      "  [ 32 145  47]]\n",
      "\n",
      " [[ 40 168 109]\n",
      "  [ 15 144  75]\n",
      "  [  0 111  21]\n",
      "  ...\n",
      "  [ 24 134  46]\n",
      "  [ 21 130  38]\n",
      "  [ 26 136  42]]\n",
      "\n",
      " [[  9 139  54]\n",
      "  [  0 130  41]\n",
      "  [ 30 160  59]\n",
      "  ...\n",
      "  [ 20 123  42]\n",
      "  [  7 111  26]\n",
      "  [ 12 117  30]]\n",
      "\n",
      " ...\n",
      "\n",
      " [[  1  47  81]\n",
      "  [ 20  64  93]\n",
      "  [ 22  60  78]\n",
      "  ...\n",
      "  [  0   1   0]\n",
      "  [  2   0   0]\n",
      "  [  4   0   0]]\n",
      "\n",
      " [[  0  30  72]\n",
      "  [  6  51  85]\n",
      "  [  8  55  77]\n",
      "  ...\n",
      "  [  5   0   1]\n",
      "  [  7   0   3]\n",
      "  [  9   0   3]]\n",
      "\n",
      " [[  9  51  94]\n",
      "  [  0  41  78]\n",
      "  [  8  57  83]\n",
      "  ...\n",
      "  [  6   0   1]\n",
      "  [ 10   1   4]\n",
      "  [ 13   2   5]]]\n"
     ]
    }
   ],
   "source": [
    "import cv2\n",
    "\n",
    "# Read the image\n",
    "image = cv2.imread('leaf.jpeg')\n",
    "\n",
    "# Print the pixel values\n",
    "print(image)\n"
   ]
  },
  {
   "cell_type": "code",
   "execution_count": 4,
   "metadata": {},
   "outputs": [
    {
     "data": {
      "text/plain": [
       "(640, 640, 3)"
      ]
     },
     "execution_count": 4,
     "metadata": {},
     "output_type": "execute_result"
    }
   ],
   "source": [
    "image.shape"
   ]
  },
  {
   "cell_type": "code",
   "execution_count": null,
   "metadata": {},
   "outputs": [],
   "source": []
  }
 ],
 "metadata": {
  "kernelspec": {
   "display_name": "Python 3",
   "language": "python",
   "name": "python3"
  },
  "language_info": {
   "codemirror_mode": {
    "name": "ipython",
    "version": 3
   },
   "file_extension": ".py",
   "mimetype": "text/x-python",
   "name": "python",
   "nbconvert_exporter": "python",
   "pygments_lexer": "ipython3",
   "version": "3.11.5"
  }
 },
 "nbformat": 4,
 "nbformat_minor": 2
}
